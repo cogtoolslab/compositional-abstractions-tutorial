{
 "cells": [
  {
   "cell_type": "markdown",
   "id": "964735df",
   "metadata": {},
   "source": [
    "# Linguistic Analyses for Compositional Abstractions\n",
    "## Notebook 2: Learning part concepts with program abstraction\n",
    "\n",
    "This notebook was written by Will McCarthy.  \n",
    "Original modeling by Haoliang Wang, Will McCarthy, Cameron Holdaway, Robert Hawkins, and Judy Fan."
   ]
  },
  {
   "cell_type": "markdown",
   "id": "24a711a0",
   "metadata": {},
   "source": [
    "*Note: this notebook serves as the instructor version and should be altered to the student version before being presented*\n",
    "\n",
    "In the previous section, we saw that *Architects* used increasingly concise language to describe the scenes they were viewing. In particular, we saw that they started to use words that referred to increasingly complex entities, moving from instructions about individual blocks to entire towers.\n",
    "\n",
    "Here we try to explain this trend through the lens of *abstraction*. We hypothesize that, as people are exposed to scenes that have elements in common, they acquire a vocabulary of part concepts that they can use represent and talk about each scene more concisely. To formalize this notion, we use *programmatic representations* of scenes, which support and amodal notion of abstraction, in the form of *program fragments*. In this notebook we explore a mechanism for learning program fragments as a model for the acquisition of part concepts."
   ]
  },
  {
   "cell_type": "markdown",
   "id": "93b9d4ef",
   "metadata": {},
   "source": [
    "This section is divided into three sections.  \n",
    "**Section 1** explains the programmatic representations we will work with.  \n",
    "**Section 2** covers the aquisition of part concepts over trials.  \n",
    "**Section 3** covers the refactoring of scene programs into more concise programs involving these part concepts."
   ]
  },
  {
   "cell_type": "markdown",
   "id": "0935bba5",
   "metadata": {},
   "source": [
    "### Setup"
   ]
  },
  {
   "cell_type": "code",
   "execution_count": 3,
   "id": "c330338c",
   "metadata": {},
   "outputs": [],
   "source": [
    "import os\n",
    "import sys\n",
    "import urllib, io\n",
    "os.getcwd()\n",
    "\n",
    "import numpy as np\n",
    "import scipy.stats as stats\n",
    "import pandas as pd\n",
    "\n",
    "import pymongo as pm\n",
    "from collections import Counter\n",
    "import json\n",
    "import re\n",
    "import ast\n",
    "import pickle\n",
    "\n",
    "import seaborn as sns\n",
    "\n",
    "from PIL import Image, ImageOps, ImageDraw, ImageFont \n",
    "\n",
    "from io import BytesIO\n",
    "import base64\n",
    "\n",
    "from IPython.display import clear_output\n",
    "\n",
    "import warnings\n",
    "warnings.filterwarnings(\"ignore\", category=DeprecationWarning)\n",
    "warnings.filterwarnings(\"ignore\", message=\"numpy.dtype size changed\")\n",
    "warnings.filterwarnings(\"ignore\", message=\"numpy.ufunc size changed\")"
   ]
  },
  {
   "cell_type": "code",
   "execution_count": 4,
   "id": "17eabe0b",
   "metadata": {},
   "outputs": [],
   "source": [
    "sys.path.append(\"../model/lib_learning/\")\n",
    "\n",
    "from program import *\n",
    "import utilities\n",
    "import render\n",
    "from parse import *\n",
    "\n",
    "from towerPrimitives import primitives\n",
    "from makeTowerTasks import *\n",
    "from grammar import *\n",
    "from fragmentGrammar import *\n",
    "from gen_seq import *\n",
    "from enumeration import *\n",
    "import importlib"
   ]
  },
  {
   "cell_type": "markdown",
   "id": "c6c05f3a",
   "metadata": {},
   "source": [
    "## Part 1: Representing block towers as programs\n",
    "\n",
    "In this project we want to explore how people build on top of existing knowledge over a short interaction. We therefore assume a basic level of understanding of block building concepts, encapsulated in a *domain specific language* (DSL).\n",
    "\n",
    "Our *base DSL* (adapted from the [Dreamcoder building task](https://arxiv.org/abs/2006.08381)), contains the following primitives:\n",
    "- **h**: horizontal domino\n",
    "- **v**: vertical domino\n",
    "- **l_x**: move left x places,  where x in {1,2,3,4,5,6,7,8,9,10,11,12}\n",
    "- **r_x**: move right x places, where x in {1,2,3,4,5,6,7,8,9,10,11,12}\n",
    "\n",
    "We manually define a unique program for each scene. For example, the scene with the C-tower on the left and L-tower on the right is represented as:  \n",
    "    `h l_1 v v r_1 h r_12 h l_4 h l_1 v v`"
   ]
  },
  {
   "cell_type": "code",
   "execution_count": 5,
   "id": "ca3e4a23",
   "metadata": {},
   "outputs": [],
   "source": [
    "manual_tower_programs = {\"CL\" :\"h l_1 v v r_1 h r_12 h l_4 h l_1 v v\",\n",
    "                         \"CPi\": \"h l_1 v v r_1 h r_6 v r_6 v l_5 h r_4 h\",\n",
    "                         \"PiC\": \"v r_6 v l_5 h r_4 h r_7 h l_1 v v r_1 h\",\n",
    "                         \"LPi\": \"h l_4 h l_1 v v r_9 v r_6 v l_5 h r_4 h\",\n",
    "                         \"LC\": \"h l_4 h l_1 v v r_12 h l_1 v v r_1 h\",\n",
    "                         \"PiL\": \"v r_6 v l_5 h r_4 h r_9 h l_4 h l_1 v v\"}"
   ]
  },
  {
   "cell_type": "markdown",
   "id": "da586b6d",
   "metadata": {},
   "source": [
    "### <span style=\"color: orange\"> Possible exercise: follow through the program for a specific scene [include image] to make sure you know how the dsl is implemented </span>"
   ]
  },
  {
   "cell_type": "markdown",
   "id": "8a212c56",
   "metadata": {},
   "source": [
    "## Part 2: Library learning\n",
    "\n",
    "In this section we formalize abstraction learning as the discovery of *program fragments*. Fragments express part of a program with a single token. By augmenting the base DSL with these additional program fragments, we create a new DSL that can be used to express scenes more efficiently (i.e. with fewer tokens). This benefit comes at the cost of storing the new abstractions in memory.\n",
    "\n",
    "This trade-off is captured by the abstraction learning algorithm, [Dreamcoder](https://arxiv.org/abs/2006.08381). Dreamcoder proposes program fragments more or less readily, depending on a weighting parameter, *w*. To keep things simple, here we consider a small range of *w*s that produce a reasonable range of learning rates.\n",
    "\n",
    "This is important, as we use Dreamcoder to capture the *change in DSLs* across trials. As the model is exposed to more scenes (programs), program fragments are added to the DSL, and scenes are able to be expressed with shorter programs. This is meant to capture the ability of participants to reason about structures larger than individual blocks."
   ]
  },
  {
   "cell_type": "markdown",
   "id": "036f4d63",
   "metadata": {},
   "source": [
    "### Running dreamcoder\n",
    "\n",
    "To save time, we have run the library learning phase of Dreamcoder for you on a range of weights. \n",
    "\n",
    "The output of Dreamcoder, for each participant, for each weight, is a series of DSLs-- one for each trial.\n",
    "\n",
    "These DSLs are saved in `./data/model/dsls/`."
   ]
  },
  {
   "cell_type": "code",
   "execution_count": 101,
   "id": "02eb7f23",
   "metadata": {},
   "outputs": [],
   "source": [
    "ws = [1.5, 3.3, 9.6] # values of w we are considering\n",
    "w_index = {w: i for i, w in enumerate(ws)} # positional index of w\n",
    "w_index = {1.5 : 0,\n",
    "           3.3 : 2,\n",
    "           9.6: 3}\n",
    "trials = range(1,13)\n",
    "ppts = range(1,50)"
   ]
  },
  {
   "cell_type": "code",
   "execution_count": 102,
   "id": "eff49665",
   "metadata": {},
   "outputs": [],
   "source": [
    "# Read in the DSLs learned by dreamcoder\n",
    "\n",
    "data_path = '../data/model/dsls/'\n",
    "\n",
    "dsls = {}\n",
    "trial_seqs = {}\n",
    "\n",
    "for ppt in range(1,50):\n",
    "    \n",
    "    dsls[ppt] = {}\n",
    "    \n",
    "    # read participants' trial sequence\n",
    "    with open(data_path+f\"{ppt}/configs.p\", \"rb\") as config_file:\n",
    "            trial_seqs[ppt] = pickle.load(config_file)\n",
    "    \n",
    "    # read inferred DSLs\n",
    "    for trial in range(1, 13):\n",
    "        with open(data_path+f\"{ppt}/{trial}.p\", \"rb\") as input_file:\n",
    "            dsls[ppt][trial] = pickle.load(input_file)\n",
    "\n",
    "def check_values(value, valid_values, parameter_type):\n",
    "    if value not in valid_values:\n",
    "        raise ValueError(f'{parameter_type} must be one of the following values: {valid_values}.')\n",
    "            \n",
    "def read_library(ppt, trial, w = 3.2, base_dsl_only=True):\n",
    "    '''\n",
    "    Returns dsl learned by dreamcoder\n",
    "    '''\n",
    "    check_values(ppt, range(1, 50), 'ppt')\n",
    "    check_values(trial, range(1, 13), 'trial')\n",
    "    check_values(w, ws, 'w')\n",
    "    \n",
    "    lib = [parse(str(fragment), base_dsl_only=base_dsl_only) for fragment in dsls[ppt][trial][w_index[w]]]\n",
    "        \n",
    "    \n",
    "    return lib"
   ]
  },
  {
   "cell_type": "code",
   "execution_count": 103,
   "id": "d908a34d",
   "metadata": {},
   "outputs": [],
   "source": [
    "## MASKED FROM STUDENT VERSION"
   ]
  },
  {
   "cell_type": "code",
   "execution_count": 105,
   "id": "2c254584",
   "metadata": {},
   "outputs": [
    {
     "data": {
      "text/plain": [
       "['h l_1 v v']"
      ]
     },
     "execution_count": 105,
     "metadata": {},
     "output_type": "execute_result"
    }
   ],
   "source": [
    "read_library(ppt = 49, \n",
    "             trial = 3,\n",
    "             w = 3.3,\n",
    "             base_dsl_only=True\n",
    "            )"
   ]
  },
  {
   "cell_type": "code",
   "execution_count": 106,
   "id": "3a639414",
   "metadata": {},
   "outputs": [
    {
     "data": {
      "text/plain": [
       "['v r_6 v l_5 h r_4 h', 'h l_1 v v', 'h l_4 h l_1 v v', 'h l_1 v v r_1 h']"
      ]
     },
     "execution_count": 106,
     "metadata": {},
     "output_type": "execute_result"
    }
   ],
   "source": [
    "# inspect libraries learned for a particular participant, trial, and w\n",
    "\n",
    "read_library(ppt = 1, \n",
    "             trial = 12,\n",
    "             w = 3.3,\n",
    "             base_dsl_only=True)"
   ]
  },
  {
   "cell_type": "markdown",
   "id": "eae7c507",
   "metadata": {},
   "source": [
    "We're currently displaying each fragment as a program in the base DSL, but the whole point of learning fragments is that you can express them as a single token.\n",
    "\n",
    "If we were fully automating this process, we might use an ID to label each learned fragment. In this example, only a handful of fragments are learned. This makes it possible to give each fragment a more helpful, human-readable name. If we change `base_dsl_only` to `False` then we can give these learned fragments helpful names."
   ]
  },
  {
   "cell_type": "code",
   "execution_count": 112,
   "id": "0094237a",
   "metadata": {},
   "outputs": [
    {
     "data": {
      "text/plain": [
       "['chunk_Pi', 'chunk_8', 'chunk_L', 'chunk_C']"
      ]
     },
     "execution_count": 112,
     "metadata": {},
     "output_type": "execute_result"
    }
   ],
   "source": [
    "read_library(ppt = 1, \n",
    "             trial = 12,\n",
    "             w = 3.3,\n",
    "             base_dsl_only=False)"
   ]
  },
  {
   "cell_type": "markdown",
   "id": "0b01a543",
   "metadata": {},
   "source": [
    "We refer to all these learned abstractions as \"chunks\". \n",
    "\n",
    "- `chunk_8`, `chunk_8b`, `chunk_9` are subtower expressions (capturing several block placements)\n",
    "- `chunk_Pi`, `chunk_C` and `chunk_L`, are distinct block towers. \n",
    "- `chunk_CPi` (and other chunks with two of C, L, and Pi) are single abstractions that capture the entire scene.\n",
    "\n",
    "There are also a few unnamed chunks (mostly rarely occuring, small chunks consisting of e.g. a block and move). You might come across some of these as `chunk_un`"
   ]
  },
  {
   "cell_type": "markdown",
   "id": "3d5ee887",
   "metadata": {},
   "source": [
    "## <span style=\"color: orange\"> Exercise: Explore libraries</span>\n",
    "\n",
    "Now we'd like to know how libraries change across trials, as well as what this looks like for different values of w.\n",
    "\n",
    "First try printing an entire sequence of libraries for one participant.  \n",
    "Then, try to calculate some basic summary statistics across participants. One thing that might differ is the size of the library. \n"
   ]
  },
  {
   "cell_type": "code",
   "execution_count": 109,
   "id": "416faa5b",
   "metadata": {},
   "outputs": [
    {
     "data": {
      "text/plain": [
       "[[],\n",
       " [],\n",
       " ['chunk_8b'],\n",
       " ['chunk_8b', 'chunk_Pi'],\n",
       " ['chunk_8', 'chunk_Pi', 'chunk_L', 'chunk_C'],\n",
       " ['chunk_8', 'chunk_Pi', 'chunk_L', 'chunk_C'],\n",
       " ['chunk_8', 'chunk_Pi', 'chunk_L', 'chunk_C'],\n",
       " ['chunk_8', 'chunk_Pi', 'chunk_L', 'chunk_C'],\n",
       " ['chunk_Pi', 'chunk_8', 'chunk_L', 'chunk_C'],\n",
       " ['chunk_8', 'chunk_Pi', 'chunk_L', 'chunk_C'],\n",
       " ['chunk_Pi', 'chunk_8', 'chunk_L', 'chunk_C'],\n",
       " ['chunk_Pi', 'chunk_8', 'chunk_L', 'chunk_C']]"
      ]
     },
     "execution_count": 109,
     "metadata": {},
     "output_type": "execute_result"
    }
   ],
   "source": [
    "# Find the series of libraries for a specific weight and participant\n",
    "\n",
    "[read_library(ppt = 1, \n",
    "             trial = trial,\n",
    "             w = 3.3,\n",
    "             base_dsl_only=False) for trial in range(1,13)]"
   ]
  },
  {
   "cell_type": "code",
   "execution_count": 110,
   "id": "da184ce8",
   "metadata": {},
   "outputs": [],
   "source": [
    "# Find the series of libraries for a specific weight and participant\n",
    "\n",
    "libs = [[read_library(ppt = ppt, \n",
    "             trial = trial,\n",
    "             w = 1.5,\n",
    "             base_dsl_only=False) for trial in range(1,13)] for ppt in range(1,50)]"
   ]
  },
  {
   "cell_type": "code",
   "execution_count": 111,
   "id": "4859794b",
   "metadata": {},
   "outputs": [
    {
     "data": {
      "text/plain": [
       "chunk_Pi     510\n",
       "chunk_C      490\n",
       "chunk_L      487\n",
       "chunk_8      428\n",
       "chunk_CPi    248\n",
       "chunk_LPi    145\n",
       "chunk_8b     105\n",
       "chunk_PiC    105\n",
       "chunk_un      41\n",
       "chunk_PiL     20\n",
       "chunk_CL      18\n",
       "dtype: int64"
      ]
     },
     "execution_count": 111,
     "metadata": {},
     "output_type": "execute_result"
    }
   ],
   "source": [
    "pd.Series([y for ys in [x for xs in libs for x in xs] for y in ys]).value_counts()"
   ]
  },
  {
   "cell_type": "markdown",
   "id": "0608a064",
   "metadata": {},
   "source": [
    "1. Library size\n",
    "2. Library content\n",
    "3. "
   ]
  },
  {
   "cell_type": "markdown",
   "id": "a41a2746",
   "metadata": {},
   "source": [
    "## Part 3: Representing scenes more concisely with refactored programs\n",
    "\n",
    "Now we have inferred the libraries of part concepts available to each participant in each trial. These part concepts, or program fragments, allow each scene program to be expressed more efficiently. In the next notebook, the model makes a decision about whether to use the most efficient program available to it, or play it safe and use lower-level language (about individual blocks). Before we get there, we first need to find these efficient programs.\n",
    "\n",
    "How to search for programs given a DSL is an interesting research question in itself. Here, however, our focus is on how people choose between more or less efficient ways of expressing a concept, given uncertainty about what their partner will understand. For our purposes, we just need to select the single most efficient program that represents each scene. Fortunately for us, Dreamcoder libraries uniquely determine this most efficient programs. Programs involving larger abstractions can easily be found through enumeration. For less compressed programs, enumeration takes too long, however, we can simply swap in the learned abstractions from our DSLs through string-matching."
   ]
  },
  {
   "cell_type": "code",
   "execution_count": 40,
   "id": "fc09493e",
   "metadata": {},
   "outputs": [],
   "source": [
    "w = 3.3\n",
    "w_position = w_index[w]"
   ]
  },
  {
   "cell_type": "code",
   "execution_count": 64,
   "id": "05be5fa9",
   "metadata": {},
   "outputs": [],
   "source": [
    "importlib.reload(refactorPrograms)\n",
    "from refactorPrograms import * "
   ]
  },
  {
   "cell_type": "code",
   "execution_count": 70,
   "id": "67e1256d",
   "metadata": {},
   "outputs": [
    {
     "name": "stdout",
     "output_type": "stream",
     "text": [
      "Programs saved in ../data/model/your_programs/programs_ppt_[ppt].json\n"
     ]
    }
   ],
   "source": [
    "# refactor the programs\n",
    "refactor_programs(dsls,\n",
    "                  trial_seqs,\n",
    "                  w_position = w_position)"
   ]
  },
  {
   "cell_type": "code",
   "execution_count": 76,
   "id": "807b8d77",
   "metadata": {},
   "outputs": [
    {
     "data": {
      "text/html": [
       "<div>\n",
       "<style scoped>\n",
       "    .dataframe tbody tr th:only-of-type {\n",
       "        vertical-align: middle;\n",
       "    }\n",
       "\n",
       "    .dataframe tbody tr th {\n",
       "        vertical-align: top;\n",
       "    }\n",
       "\n",
       "    .dataframe thead th {\n",
       "        text-align: right;\n",
       "    }\n",
       "</style>\n",
       "<table border=\"1\" class=\"dataframe\">\n",
       "  <thead>\n",
       "    <tr style=\"text-align: right;\">\n",
       "      <th></th>\n",
       "      <th>ppt</th>\n",
       "      <th>trial_num</th>\n",
       "      <th>towers</th>\n",
       "      <th>dsl_lambda</th>\n",
       "      <th>chunks</th>\n",
       "      <th>dsl</th>\n",
       "      <th>min_program</th>\n",
       "      <th>programs_with_length</th>\n",
       "    </tr>\n",
       "  </thead>\n",
       "  <tbody>\n",
       "    <tr>\n",
       "      <th>0</th>\n",
       "      <td>1</td>\n",
       "      <td>1</td>\n",
       "      <td>LPi</td>\n",
       "      <td>[2x1, 1x2, 1, 2, 3, 4, 5, 6, 7, 8, 9, 10, 11, ...</td>\n",
       "      <td>[]</td>\n",
       "      <td>[h, v, l_0, l_1, l_2, l_3, l_4, l_5, l_6, l_7,...</td>\n",
       "      <td>h l_4 h l_1 v v r_9 v r_6 v l_5 h r_4 h</td>\n",
       "      <td>{'h l_4 h l_1 v v r_9 v r_6 v l_5 h r_4 h': 14}</td>\n",
       "    </tr>\n",
       "    <tr>\n",
       "      <th>1</th>\n",
       "      <td>1</td>\n",
       "      <td>2</td>\n",
       "      <td>LC</td>\n",
       "      <td>[2x1, 1x2, 1, 2, 3, 4, 5, 6, 7, 8, 9, 10, 11, ...</td>\n",
       "      <td>[]</td>\n",
       "      <td>[h, v, l_0, l_1, l_2, l_3, l_4, l_5, l_6, l_7,...</td>\n",
       "      <td>h l_4 h l_1 v v r_12 h l_1 v v r_1 h</td>\n",
       "      <td>{'h l_4 h l_1 v v r_12 h l_1 v v r_1 h': 13}</td>\n",
       "    </tr>\n",
       "    <tr>\n",
       "      <th>2</th>\n",
       "      <td>1</td>\n",
       "      <td>3</td>\n",
       "      <td>CPi</td>\n",
       "      <td>[2x1, 1x2, 1, 2, 3, 4, 5, 6, 7, 8, 9, 10, 11, ...</td>\n",
       "      <td>[]</td>\n",
       "      <td>[h, v, l_0, l_1, l_2, l_3, l_4, l_5, l_6, l_7,...</td>\n",
       "      <td>h l_1 v v r_1 h r_6 v r_6 v l_5 h r_4 h</td>\n",
       "      <td>{'h l_1 v v r_1 h r_6 v r_6 v l_5 h r_4 h': 14}</td>\n",
       "    </tr>\n",
       "    <tr>\n",
       "      <th>3</th>\n",
       "      <td>1</td>\n",
       "      <td>4</td>\n",
       "      <td>PiC</td>\n",
       "      <td>[2x1, 1x2, 1, 2, 3, 4, 5, 6, 7, 8, 9, 10, 11, ...</td>\n",
       "      <td>[chunk_8b]</td>\n",
       "      <td>[h, v, l_0, l_1, l_2, l_3, l_4, l_5, l_6, l_7,...</td>\n",
       "      <td>v r_6 v l_5 h r_4 h r_7 chunk_8b r_1 h</td>\n",
       "      <td>{'v r_6 v l_5 h r_4 h r_7 chunk_8b r_1 h': 11,...</td>\n",
       "    </tr>\n",
       "    <tr>\n",
       "      <th>4</th>\n",
       "      <td>1</td>\n",
       "      <td>5</td>\n",
       "      <td>CL</td>\n",
       "      <td>[2x1, 1x2, 1, 2, 3, 4, 5, 6, 7, 8, 9, 10, 11, ...</td>\n",
       "      <td>[chunk_8b, chunk_Pi]</td>\n",
       "      <td>[h, v, l_0, l_1, l_2, l_3, l_4, l_5, l_6, l_7,...</td>\n",
       "      <td>chunk_8b r_1 h r_12 h l_4 chunk_8b</td>\n",
       "      <td>{'chunk_8b r_1 h r_12 h l_4 chunk_8b': 7, 'h l...</td>\n",
       "    </tr>\n",
       "    <tr>\n",
       "      <th>5</th>\n",
       "      <td>1</td>\n",
       "      <td>6</td>\n",
       "      <td>PiL</td>\n",
       "      <td>[2x1, 1x2, 1, 2, 3, 4, 5, 6, 7, 8, 9, 10, 11, ...</td>\n",
       "      <td>[chunk_8, chunk_Pi, chunk_L, chunk_C]</td>\n",
       "      <td>[h, v, l_0, l_1, l_2, l_3, l_4, l_5, l_6, l_7,...</td>\n",
       "      <td>chunk_Pi r_9 chunk_L</td>\n",
       "      <td>{'chunk_Pi r_9 chunk_L': 3, 'v r_6 v l_5 h r_4...</td>\n",
       "    </tr>\n",
       "    <tr>\n",
       "      <th>6</th>\n",
       "      <td>1</td>\n",
       "      <td>7</td>\n",
       "      <td>LC</td>\n",
       "      <td>[2x1, 1x2, 1, 2, 3, 4, 5, 6, 7, 8, 9, 10, 11, ...</td>\n",
       "      <td>[chunk_8, chunk_Pi, chunk_L, chunk_C]</td>\n",
       "      <td>[h, v, l_0, l_1, l_2, l_3, l_4, l_5, l_6, l_7,...</td>\n",
       "      <td>chunk_L r_12 chunk_C</td>\n",
       "      <td>{'chunk_L r_12 chunk_C': 3, 'h l_4 h l_1 v v r...</td>\n",
       "    </tr>\n",
       "    <tr>\n",
       "      <th>7</th>\n",
       "      <td>1</td>\n",
       "      <td>8</td>\n",
       "      <td>CPi</td>\n",
       "      <td>[2x1, 1x2, 1, 2, 3, 4, 5, 6, 7, 8, 9, 10, 11, ...</td>\n",
       "      <td>[chunk_8, chunk_Pi, chunk_L, chunk_C]</td>\n",
       "      <td>[h, v, l_0, l_1, l_2, l_3, l_4, l_5, l_6, l_7,...</td>\n",
       "      <td>chunk_C r_6 chunk_Pi</td>\n",
       "      <td>{'chunk_C r_6 chunk_Pi': 3, 'chunk_C r_6 v r_6...</td>\n",
       "    </tr>\n",
       "    <tr>\n",
       "      <th>8</th>\n",
       "      <td>1</td>\n",
       "      <td>9</td>\n",
       "      <td>LPi</td>\n",
       "      <td>[2x1, 1x2, 1, 2, 3, 4, 5, 6, 7, 8, 9, 10, 11, ...</td>\n",
       "      <td>[chunk_8, chunk_Pi, chunk_L, chunk_C]</td>\n",
       "      <td>[h, v, l_0, l_1, l_2, l_3, l_4, l_5, l_6, l_7,...</td>\n",
       "      <td>chunk_L r_9 chunk_Pi</td>\n",
       "      <td>{'chunk_L r_9 chunk_Pi': 3, 'chunk_L r_9 v r_6...</td>\n",
       "    </tr>\n",
       "    <tr>\n",
       "      <th>9</th>\n",
       "      <td>1</td>\n",
       "      <td>10</td>\n",
       "      <td>CL</td>\n",
       "      <td>[2x1, 1x2, 1, 2, 3, 4, 5, 6, 7, 8, 9, 10, 11, ...</td>\n",
       "      <td>[chunk_Pi, chunk_8, chunk_L, chunk_C]</td>\n",
       "      <td>[h, v, l_0, l_1, l_2, l_3, l_4, l_5, l_6, l_7,...</td>\n",
       "      <td>chunk_C r_12 chunk_L</td>\n",
       "      <td>{'chunk_C r_12 chunk_L': 3, 'chunk_C r_12 h l_...</td>\n",
       "    </tr>\n",
       "    <tr>\n",
       "      <th>10</th>\n",
       "      <td>1</td>\n",
       "      <td>11</td>\n",
       "      <td>PiC</td>\n",
       "      <td>[2x1, 1x2, 1, 2, 3, 4, 5, 6, 7, 8, 9, 10, 11, ...</td>\n",
       "      <td>[chunk_8, chunk_Pi, chunk_L, chunk_C]</td>\n",
       "      <td>[h, v, l_0, l_1, l_2, l_3, l_4, l_5, l_6, l_7,...</td>\n",
       "      <td>chunk_Pi r_7 chunk_C</td>\n",
       "      <td>{'chunk_Pi r_7 chunk_C': 3, 'v r_6 v l_5 h r_4...</td>\n",
       "    </tr>\n",
       "    <tr>\n",
       "      <th>11</th>\n",
       "      <td>1</td>\n",
       "      <td>12</td>\n",
       "      <td>PiL</td>\n",
       "      <td>[2x1, 1x2, 1, 2, 3, 4, 5, 6, 7, 8, 9, 10, 11, ...</td>\n",
       "      <td>[chunk_Pi, chunk_8, chunk_L, chunk_C]</td>\n",
       "      <td>[h, v, l_0, l_1, l_2, l_3, l_4, l_5, l_6, l_7,...</td>\n",
       "      <td>chunk_Pi r_9 chunk_L</td>\n",
       "      <td>{'chunk_Pi r_9 chunk_L': 3, 'v r_6 v l_5 h r_4...</td>\n",
       "    </tr>\n",
       "  </tbody>\n",
       "</table>\n",
       "</div>"
      ],
      "text/plain": [
       "    ppt  trial_num towers                                         dsl_lambda  \\\n",
       "0     1          1    LPi  [2x1, 1x2, 1, 2, 3, 4, 5, 6, 7, 8, 9, 10, 11, ...   \n",
       "1     1          2     LC  [2x1, 1x2, 1, 2, 3, 4, 5, 6, 7, 8, 9, 10, 11, ...   \n",
       "2     1          3    CPi  [2x1, 1x2, 1, 2, 3, 4, 5, 6, 7, 8, 9, 10, 11, ...   \n",
       "3     1          4    PiC  [2x1, 1x2, 1, 2, 3, 4, 5, 6, 7, 8, 9, 10, 11, ...   \n",
       "4     1          5     CL  [2x1, 1x2, 1, 2, 3, 4, 5, 6, 7, 8, 9, 10, 11, ...   \n",
       "5     1          6    PiL  [2x1, 1x2, 1, 2, 3, 4, 5, 6, 7, 8, 9, 10, 11, ...   \n",
       "6     1          7     LC  [2x1, 1x2, 1, 2, 3, 4, 5, 6, 7, 8, 9, 10, 11, ...   \n",
       "7     1          8    CPi  [2x1, 1x2, 1, 2, 3, 4, 5, 6, 7, 8, 9, 10, 11, ...   \n",
       "8     1          9    LPi  [2x1, 1x2, 1, 2, 3, 4, 5, 6, 7, 8, 9, 10, 11, ...   \n",
       "9     1         10     CL  [2x1, 1x2, 1, 2, 3, 4, 5, 6, 7, 8, 9, 10, 11, ...   \n",
       "10    1         11    PiC  [2x1, 1x2, 1, 2, 3, 4, 5, 6, 7, 8, 9, 10, 11, ...   \n",
       "11    1         12    PiL  [2x1, 1x2, 1, 2, 3, 4, 5, 6, 7, 8, 9, 10, 11, ...   \n",
       "\n",
       "                                   chunks  \\\n",
       "0                                      []   \n",
       "1                                      []   \n",
       "2                                      []   \n",
       "3                              [chunk_8b]   \n",
       "4                    [chunk_8b, chunk_Pi]   \n",
       "5   [chunk_8, chunk_Pi, chunk_L, chunk_C]   \n",
       "6   [chunk_8, chunk_Pi, chunk_L, chunk_C]   \n",
       "7   [chunk_8, chunk_Pi, chunk_L, chunk_C]   \n",
       "8   [chunk_8, chunk_Pi, chunk_L, chunk_C]   \n",
       "9   [chunk_Pi, chunk_8, chunk_L, chunk_C]   \n",
       "10  [chunk_8, chunk_Pi, chunk_L, chunk_C]   \n",
       "11  [chunk_Pi, chunk_8, chunk_L, chunk_C]   \n",
       "\n",
       "                                                  dsl  \\\n",
       "0   [h, v, l_0, l_1, l_2, l_3, l_4, l_5, l_6, l_7,...   \n",
       "1   [h, v, l_0, l_1, l_2, l_3, l_4, l_5, l_6, l_7,...   \n",
       "2   [h, v, l_0, l_1, l_2, l_3, l_4, l_5, l_6, l_7,...   \n",
       "3   [h, v, l_0, l_1, l_2, l_3, l_4, l_5, l_6, l_7,...   \n",
       "4   [h, v, l_0, l_1, l_2, l_3, l_4, l_5, l_6, l_7,...   \n",
       "5   [h, v, l_0, l_1, l_2, l_3, l_4, l_5, l_6, l_7,...   \n",
       "6   [h, v, l_0, l_1, l_2, l_3, l_4, l_5, l_6, l_7,...   \n",
       "7   [h, v, l_0, l_1, l_2, l_3, l_4, l_5, l_6, l_7,...   \n",
       "8   [h, v, l_0, l_1, l_2, l_3, l_4, l_5, l_6, l_7,...   \n",
       "9   [h, v, l_0, l_1, l_2, l_3, l_4, l_5, l_6, l_7,...   \n",
       "10  [h, v, l_0, l_1, l_2, l_3, l_4, l_5, l_6, l_7,...   \n",
       "11  [h, v, l_0, l_1, l_2, l_3, l_4, l_5, l_6, l_7,...   \n",
       "\n",
       "                                min_program  \\\n",
       "0   h l_4 h l_1 v v r_9 v r_6 v l_5 h r_4 h   \n",
       "1      h l_4 h l_1 v v r_12 h l_1 v v r_1 h   \n",
       "2   h l_1 v v r_1 h r_6 v r_6 v l_5 h r_4 h   \n",
       "3    v r_6 v l_5 h r_4 h r_7 chunk_8b r_1 h   \n",
       "4        chunk_8b r_1 h r_12 h l_4 chunk_8b   \n",
       "5                      chunk_Pi r_9 chunk_L   \n",
       "6                      chunk_L r_12 chunk_C   \n",
       "7                      chunk_C r_6 chunk_Pi   \n",
       "8                      chunk_L r_9 chunk_Pi   \n",
       "9                      chunk_C r_12 chunk_L   \n",
       "10                     chunk_Pi r_7 chunk_C   \n",
       "11                     chunk_Pi r_9 chunk_L   \n",
       "\n",
       "                                 programs_with_length  \n",
       "0     {'h l_4 h l_1 v v r_9 v r_6 v l_5 h r_4 h': 14}  \n",
       "1        {'h l_4 h l_1 v v r_12 h l_1 v v r_1 h': 13}  \n",
       "2     {'h l_1 v v r_1 h r_6 v r_6 v l_5 h r_4 h': 14}  \n",
       "3   {'v r_6 v l_5 h r_4 h r_7 chunk_8b r_1 h': 11,...  \n",
       "4   {'chunk_8b r_1 h r_12 h l_4 chunk_8b': 7, 'h l...  \n",
       "5   {'chunk_Pi r_9 chunk_L': 3, 'v r_6 v l_5 h r_4...  \n",
       "6   {'chunk_L r_12 chunk_C': 3, 'h l_4 h l_1 v v r...  \n",
       "7   {'chunk_C r_6 chunk_Pi': 3, 'chunk_C r_6 v r_6...  \n",
       "8   {'chunk_L r_9 chunk_Pi': 3, 'chunk_L r_9 v r_6...  \n",
       "9   {'chunk_C r_12 chunk_L': 3, 'chunk_C r_12 h l_...  \n",
       "10  {'chunk_Pi r_7 chunk_C': 3, 'v r_6 v l_5 h r_4...  \n",
       "11  {'chunk_Pi r_9 chunk_L': 3, 'v r_6 v l_5 h r_4...  "
      ]
     },
     "execution_count": 76,
     "metadata": {},
     "output_type": "execute_result"
    }
   ],
   "source": [
    "# inspect programs\n",
    "\n",
    "ppt = 1\n",
    "\n",
    "ppt_data = pd.read_json('../data/model/your_programs/programs_ppt_{}.json'.format(ppt))\n",
    "ppt_data"
   ]
  },
  {
   "cell_type": "markdown",
   "id": "f348f86d",
   "metadata": {},
   "source": [
    "## <span style=\"color: orange\"> Exercise: Explore the programs</span>\n",
    "\n",
    "We now have, for each participant, the most concise way of expressing each scene program (min_program). Take a look at these programs and try to make sense of them. Do they get longer or shorter over trials?\n",
    "\n",
    "**Hint**: This exploration is analagous to the message length analysis in the previous notebook."
   ]
  },
  {
   "cell_type": "code",
   "execution_count": 83,
   "id": "2294f91d",
   "metadata": {},
   "outputs": [],
   "source": [
    "ppt = 1\n",
    "\n",
    "all_program_data = pd.DataFrame()\n",
    "\n",
    "for ppt in range(1,50):\n",
    "\n",
    "    with open(\"../data/model/your_programs/programs_ppt_\" + str(ppt) + \".json\", \"r\") as read_file:\n",
    "        trial_data = pd.read_json(read_file)\n",
    "        all_program_data = pd.concat([all_program_data, trial_data], ignore_index=True)"
   ]
  },
  {
   "cell_type": "code",
   "execution_count": 97,
   "id": "4f935f37",
   "metadata": {},
   "outputs": [
    {
     "data": {
      "text/plain": [
       "<AxesSubplot:xlabel='trial_num', ylabel='min_prog_length'>"
      ]
     },
     "execution_count": 97,
     "metadata": {},
     "output_type": "execute_result"
    },
    {
     "data": {
      "image/png": "[encoded data removed]",
      "text/plain": [
       "<Figure size 640x480 with 1 Axes>"
      ]
     },
     "metadata": {},
     "output_type": "display_data"
    }
   ],
   "source": [
    "all_program_data['min_prog_length'] = all_program_data.min_program.apply(lambda x: len(x.split(' ')))\n",
    "\n",
    "sns.lineplot(data = all_program_data,\n",
    "         x = 'trial_num',\n",
    "         y = 'min_prog_length')"
   ]
  },
  {
   "cell_type": "code",
   "execution_count": 98,
   "id": "97e21a88",
   "metadata": {},
   "outputs": [
    {
     "data": {
      "text/plain": [
       "<AxesSubplot:xlabel='rep', ylabel='min_prog_length'>"
      ]
     },
     "execution_count": 98,
     "metadata": {},
     "output_type": "execute_result"
    },
    {
     "data": {
      "image/png": "[encoded data removed]",
      "text/plain": [
       "<Figure size 640x480 with 1 Axes>"
      ]
     },
     "metadata": {},
     "output_type": "display_data"
    }
   ],
   "source": [
    "all_program_data['rep'] = all_program_data.trial_num.apply(lambda n: np.ceil(n/3))\n",
    "\n",
    "\n",
    "sns.lineplot(data = all_program_data,\n",
    "         x = 'rep',\n",
    "         y = 'min_prog_length')"
   ]
  },
  {
   "cell_type": "markdown",
   "id": "72f16939",
   "metadata": {},
   "source": [
    "### Summary\n",
    "\n",
    "We've seen how we can model the learning of part concepts as adding program fragments to a library. We've seen that doing so allows us to express a scene program more concisely, and generated programs using more or less of these fragments to create a range of programs with varying concision.\n",
    "\n",
    "In the [final notebook](/notebooks/conventions.ipynb), we explore how people might weigh this concision against another factor-- informativity.\n",
    "\n",
    "Woohoo! Notebook 2 complete! Have a stretch, go for a walk, drink some water.\n",
    "\n"
   ]
  },
  {
   "cell_type": "code",
   "execution_count": 114,
   "id": "d80dd4c7",
   "metadata": {},
   "outputs": [],
   "source": [
    "df_ref_exps = pd.read_csv('../data/df_ref_exps.csv')"
   ]
  },
  {
   "cell_type": "code",
   "execution_count": 122,
   "id": "07edba4a",
   "metadata": {},
   "outputs": [],
   "source": [
    "rater_num = {name: i for i, name in enumerate(df_ref_exps.workerID.unique())}"
   ]
  },
  {
   "cell_type": "code",
   "execution_count": 125,
   "id": "3e62e19b",
   "metadata": {},
   "outputs": [],
   "source": [
    "df_ref_exps.workerID = df_ref_exps.workerID.apply(lambda a: rater_num[a])"
   ]
  },
  {
   "cell_type": "code",
   "execution_count": 126,
   "id": "3dd16f5d",
   "metadata": {},
   "outputs": [
    {
     "data": {
      "text/html": [
       "<div>\n",
       "<style scoped>\n",
       "    .dataframe tbody tr th:only-of-type {\n",
       "        vertical-align: middle;\n",
       "    }\n",
       "\n",
       "    .dataframe tbody tr th {\n",
       "        vertical-align: top;\n",
       "    }\n",
       "\n",
       "    .dataframe thead th {\n",
       "        text-align: right;\n",
       "    }\n",
       "</style>\n",
       "<table border=\"1\" class=\"dataframe\">\n",
       "  <thead>\n",
       "    <tr style=\"text-align: right;\">\n",
       "      <th></th>\n",
       "      <th>Unnamed: 0</th>\n",
       "      <th>dyad_gameid</th>\n",
       "      <th>trial_num</th>\n",
       "      <th>turn_num</th>\n",
       "      <th>message_id</th>\n",
       "      <th>workerID</th>\n",
       "      <th>block</th>\n",
       "      <th>phrases</th>\n",
       "      <th>scene</th>\n",
       "      <th>tower</th>\n",
       "      <th>message_num</th>\n",
       "      <th>message</th>\n",
       "      <th>content</th>\n",
       "      <th>refExps</th>\n",
       "      <th>leftTarget</th>\n",
       "      <th>rightTarget</th>\n",
       "      <th>tower_pair</th>\n",
       "      <th>rep</th>\n",
       "    </tr>\n",
       "  </thead>\n",
       "  <tbody>\n",
       "    <tr>\n",
       "      <th>0</th>\n",
       "      <td>0</td>\n",
       "      <td>0110-5784fec9-109a-4d7a-a343-4820f4d42144</td>\n",
       "      <td>0.0</td>\n",
       "      <td>0</td>\n",
       "      <td>e5b3a67b-aa0e-563e-efe1-633cb87c6dd3</td>\n",
       "      <td>0</td>\n",
       "      <td>2</td>\n",
       "      <td>two blue</td>\n",
       "      <td>0.0</td>\n",
       "      <td>0</td>\n",
       "      <td>0</td>\n",
       "      <td>two blue blocks on left and right side of left...</td>\n",
       "      <td>two blue</td>\n",
       "      <td>NaN</td>\n",
       "      <td>L</td>\n",
       "      <td>Pi</td>\n",
       "      <td>L_Pi</td>\n",
       "      <td>1</td>\n",
       "    </tr>\n",
       "    <tr>\n",
       "      <th>1</th>\n",
       "      <td>1</td>\n",
       "      <td>0110-5784fec9-109a-4d7a-a343-4820f4d42144</td>\n",
       "      <td>0.0</td>\n",
       "      <td>0</td>\n",
       "      <td>e5b3a67b-aa0e-563e-efe1-633cb87c6dd3</td>\n",
       "      <td>1</td>\n",
       "      <td>2</td>\n",
       "      <td>two blue blocks</td>\n",
       "      <td>0.0</td>\n",
       "      <td>0</td>\n",
       "      <td>0</td>\n",
       "      <td>two blue blocks on left and right side of left...</td>\n",
       "      <td>two blue blocks</td>\n",
       "      <td>NaN</td>\n",
       "      <td>L</td>\n",
       "      <td>Pi</td>\n",
       "      <td>L_Pi</td>\n",
       "      <td>1</td>\n",
       "    </tr>\n",
       "    <tr>\n",
       "      <th>2</th>\n",
       "      <td>2</td>\n",
       "      <td>0110-5784fec9-109a-4d7a-a343-4820f4d42144</td>\n",
       "      <td>0.0</td>\n",
       "      <td>2</td>\n",
       "      <td>abbd2fe0-e095-bbfd-4c26-52d8b6eaf241</td>\n",
       "      <td>0</td>\n",
       "      <td>2</td>\n",
       "      <td>two red</td>\n",
       "      <td>0.0</td>\n",
       "      <td>0</td>\n",
       "      <td>1</td>\n",
       "      <td>two red block on top of left blue block just p...</td>\n",
       "      <td>two red</td>\n",
       "      <td>NaN</td>\n",
       "      <td>L</td>\n",
       "      <td>Pi</td>\n",
       "      <td>L_Pi</td>\n",
       "      <td>1</td>\n",
       "    </tr>\n",
       "    <tr>\n",
       "      <th>3</th>\n",
       "      <td>3</td>\n",
       "      <td>0110-5784fec9-109a-4d7a-a343-4820f4d42144</td>\n",
       "      <td>0.0</td>\n",
       "      <td>2</td>\n",
       "      <td>abbd2fe0-e095-bbfd-4c26-52d8b6eaf241</td>\n",
       "      <td>1</td>\n",
       "      <td>2</td>\n",
       "      <td>two red block</td>\n",
       "      <td>0.0</td>\n",
       "      <td>0</td>\n",
       "      <td>1</td>\n",
       "      <td>two red block on top of left blue block just p...</td>\n",
       "      <td>two red block</td>\n",
       "      <td>NaN</td>\n",
       "      <td>L</td>\n",
       "      <td>Pi</td>\n",
       "      <td>L_Pi</td>\n",
       "      <td>1</td>\n",
       "    </tr>\n",
       "    <tr>\n",
       "      <th>4</th>\n",
       "      <td>4</td>\n",
       "      <td>0110-5784fec9-109a-4d7a-a343-4820f4d42144</td>\n",
       "      <td>0.0</td>\n",
       "      <td>4</td>\n",
       "      <td>d39dd7ca-1fde-56c1-9d41-a10b16b3d17d</td>\n",
       "      <td>0</td>\n",
       "      <td>2</td>\n",
       "      <td>two red</td>\n",
       "      <td>0.0</td>\n",
       "      <td>0</td>\n",
       "      <td>2</td>\n",
       "      <td>two red block one space apart on right line</td>\n",
       "      <td>two red</td>\n",
       "      <td>NaN</td>\n",
       "      <td>L</td>\n",
       "      <td>Pi</td>\n",
       "      <td>L_Pi</td>\n",
       "      <td>1</td>\n",
       "    </tr>\n",
       "    <tr>\n",
       "      <th>...</th>\n",
       "      <td>...</td>\n",
       "      <td>...</td>\n",
       "      <td>...</td>\n",
       "      <td>...</td>\n",
       "      <td>...</td>\n",
       "      <td>...</td>\n",
       "      <td>...</td>\n",
       "      <td>...</td>\n",
       "      <td>...</td>\n",
       "      <td>...</td>\n",
       "      <td>...</td>\n",
       "      <td>...</td>\n",
       "      <td>...</td>\n",
       "      <td>...</td>\n",
       "      <td>...</td>\n",
       "      <td>...</td>\n",
       "      <td>...</td>\n",
       "      <td>...</td>\n",
       "    </tr>\n",
       "    <tr>\n",
       "      <th>8567</th>\n",
       "      <td>8567</td>\n",
       "      <td>9961-1bd92164-cbe7-4841-8225-7de8486bf84a</td>\n",
       "      <td>11.0</td>\n",
       "      <td>2</td>\n",
       "      <td>ae9e8d03-8498-3111-371a-239070c742d0</td>\n",
       "      <td>3</td>\n",
       "      <td>1</td>\n",
       "      <td>NaN</td>\n",
       "      <td>NaN</td>\n",
       "      <td>0</td>\n",
       "      <td>1</td>\n",
       "      <td>same on the opposite side</td>\n",
       "      <td>same</td>\n",
       "      <td>same,</td>\n",
       "      <td>Pi</td>\n",
       "      <td>L</td>\n",
       "      <td>Pi_L</td>\n",
       "      <td>4</td>\n",
       "    </tr>\n",
       "    <tr>\n",
       "      <th>8568</th>\n",
       "      <td>8568</td>\n",
       "      <td>9961-1bd92164-cbe7-4841-8225-7de8486bf84a</td>\n",
       "      <td>11.0</td>\n",
       "      <td>4</td>\n",
       "      <td>24b27e83-01cb-d9c2-d35f-581e3648431f</td>\n",
       "      <td>3</td>\n",
       "      <td>2</td>\n",
       "      <td>NaN</td>\n",
       "      <td>NaN</td>\n",
       "      <td>0</td>\n",
       "      <td>2</td>\n",
       "      <td>close it up with two blues</td>\n",
       "      <td>two blues</td>\n",
       "      <td>two blues,</td>\n",
       "      <td>Pi</td>\n",
       "      <td>L</td>\n",
       "      <td>Pi_L</td>\n",
       "      <td>4</td>\n",
       "    </tr>\n",
       "    <tr>\n",
       "      <th>8569</th>\n",
       "      <td>8569</td>\n",
       "      <td>9961-1bd92164-cbe7-4841-8225-7de8486bf84a</td>\n",
       "      <td>11.0</td>\n",
       "      <td>6</td>\n",
       "      <td>17668e8a-78ca-810e-7428-63563c91e458</td>\n",
       "      <td>3</td>\n",
       "      <td>1</td>\n",
       "      <td>NaN</td>\n",
       "      <td>NaN</td>\n",
       "      <td>0</td>\n",
       "      <td>3</td>\n",
       "      <td>take a blue and place it to the right of right...</td>\n",
       "      <td>blue</td>\n",
       "      <td>blue,</td>\n",
       "      <td>Pi</td>\n",
       "      <td>L</td>\n",
       "      <td>Pi_L</td>\n",
       "      <td>4</td>\n",
       "    </tr>\n",
       "    <tr>\n",
       "      <th>8570</th>\n",
       "      <td>8570</td>\n",
       "      <td>9961-1bd92164-cbe7-4841-8225-7de8486bf84a</td>\n",
       "      <td>11.0</td>\n",
       "      <td>8</td>\n",
       "      <td>a622053d-d5ff-7894-46ac-32019ab1874e</td>\n",
       "      <td>3</td>\n",
       "      <td>1</td>\n",
       "      <td>NaN</td>\n",
       "      <td>NaN</td>\n",
       "      <td>0</td>\n",
       "      <td>4</td>\n",
       "      <td>another blue placed next to it on the left side</td>\n",
       "      <td>blue</td>\n",
       "      <td>blue,</td>\n",
       "      <td>Pi</td>\n",
       "      <td>L</td>\n",
       "      <td>Pi_L</td>\n",
       "      <td>4</td>\n",
       "    </tr>\n",
       "    <tr>\n",
       "      <th>8571</th>\n",
       "      <td>8571</td>\n",
       "      <td>9961-1bd92164-cbe7-4841-8225-7de8486bf84a</td>\n",
       "      <td>11.0</td>\n",
       "      <td>10</td>\n",
       "      <td>bcee7fb1-543c-41b5-6466-18914a3eacf0</td>\n",
       "      <td>3</td>\n",
       "      <td>2</td>\n",
       "      <td>NaN</td>\n",
       "      <td>NaN</td>\n",
       "      <td>0</td>\n",
       "      <td>5</td>\n",
       "      <td>stack two reds on the left edge</td>\n",
       "      <td>two reds</td>\n",
       "      <td>two reds,</td>\n",
       "      <td>Pi</td>\n",
       "      <td>L</td>\n",
       "      <td>Pi_L</td>\n",
       "      <td>4</td>\n",
       "    </tr>\n",
       "  </tbody>\n",
       "</table>\n",
       "<p>8572 rows × 18 columns</p>\n",
       "</div>"
      ],
      "text/plain": [
       "      Unnamed: 0                                dyad_gameid  trial_num  \\\n",
       "0              0  0110-5784fec9-109a-4d7a-a343-4820f4d42144        0.0   \n",
       "1              1  0110-5784fec9-109a-4d7a-a343-4820f4d42144        0.0   \n",
       "2              2  0110-5784fec9-109a-4d7a-a343-4820f4d42144        0.0   \n",
       "3              3  0110-5784fec9-109a-4d7a-a343-4820f4d42144        0.0   \n",
       "4              4  0110-5784fec9-109a-4d7a-a343-4820f4d42144        0.0   \n",
       "...          ...                                        ...        ...   \n",
       "8567        8567  9961-1bd92164-cbe7-4841-8225-7de8486bf84a       11.0   \n",
       "8568        8568  9961-1bd92164-cbe7-4841-8225-7de8486bf84a       11.0   \n",
       "8569        8569  9961-1bd92164-cbe7-4841-8225-7de8486bf84a       11.0   \n",
       "8570        8570  9961-1bd92164-cbe7-4841-8225-7de8486bf84a       11.0   \n",
       "8571        8571  9961-1bd92164-cbe7-4841-8225-7de8486bf84a       11.0   \n",
       "\n",
       "      turn_num                            message_id  workerID  block  \\\n",
       "0            0  e5b3a67b-aa0e-563e-efe1-633cb87c6dd3         0      2   \n",
       "1            0  e5b3a67b-aa0e-563e-efe1-633cb87c6dd3         1      2   \n",
       "2            2  abbd2fe0-e095-bbfd-4c26-52d8b6eaf241         0      2   \n",
       "3            2  abbd2fe0-e095-bbfd-4c26-52d8b6eaf241         1      2   \n",
       "4            4  d39dd7ca-1fde-56c1-9d41-a10b16b3d17d         0      2   \n",
       "...        ...                                   ...       ...    ...   \n",
       "8567         2  ae9e8d03-8498-3111-371a-239070c742d0         3      1   \n",
       "8568         4  24b27e83-01cb-d9c2-d35f-581e3648431f         3      2   \n",
       "8569         6  17668e8a-78ca-810e-7428-63563c91e458         3      1   \n",
       "8570         8  a622053d-d5ff-7894-46ac-32019ab1874e         3      1   \n",
       "8571        10  bcee7fb1-543c-41b5-6466-18914a3eacf0         3      2   \n",
       "\n",
       "              phrases  scene  tower  message_num  \\\n",
       "0            two blue    0.0      0            0   \n",
       "1     two blue blocks    0.0      0            0   \n",
       "2             two red    0.0      0            1   \n",
       "3       two red block    0.0      0            1   \n",
       "4             two red    0.0      0            2   \n",
       "...               ...    ...    ...          ...   \n",
       "8567              NaN    NaN      0            1   \n",
       "8568              NaN    NaN      0            2   \n",
       "8569              NaN    NaN      0            3   \n",
       "8570              NaN    NaN      0            4   \n",
       "8571              NaN    NaN      0            5   \n",
       "\n",
       "                                                message          content  \\\n",
       "0     two blue blocks on left and right side of left...         two blue   \n",
       "1     two blue blocks on left and right side of left...  two blue blocks   \n",
       "2     two red block on top of left blue block just p...          two red   \n",
       "3     two red block on top of left blue block just p...    two red block   \n",
       "4           two red block one space apart on right line          two red   \n",
       "...                                                 ...              ...   \n",
       "8567                          same on the opposite side            same    \n",
       "8568                         close it up with two blues       two blues    \n",
       "8569  take a blue and place it to the right of right...            blue    \n",
       "8570    another blue placed next to it on the left side            blue    \n",
       "8571                    stack two reds on the left edge        two reds    \n",
       "\n",
       "          refExps leftTarget rightTarget tower_pair  rep  \n",
       "0             NaN          L          Pi       L_Pi    1  \n",
       "1             NaN          L          Pi       L_Pi    1  \n",
       "2             NaN          L          Pi       L_Pi    1  \n",
       "3             NaN          L          Pi       L_Pi    1  \n",
       "4             NaN          L          Pi       L_Pi    1  \n",
       "...           ...        ...         ...        ...  ...  \n",
       "8567       same,          Pi           L       Pi_L    4  \n",
       "8568  two blues,          Pi           L       Pi_L    4  \n",
       "8569       blue,          Pi           L       Pi_L    4  \n",
       "8570       blue,          Pi           L       Pi_L    4  \n",
       "8571   two reds,          Pi           L       Pi_L    4  \n",
       "\n",
       "[8572 rows x 18 columns]"
      ]
     },
     "execution_count": 126,
     "metadata": {},
     "output_type": "execute_result"
    }
   ],
   "source": [
    "df_ref_exps."
   ]
  },
  {
   "cell_type": "code",
   "execution_count": null,
   "id": "77e9fcdb",
   "metadata": {},
   "outputs": [],
   "source": []
  }
 ],
 "metadata": {
  "kernelspec": {
   "display_name": "Python 3 (ipykernel)",
   "language": "python",
   "name": "python3"
  },
  "language_info": {
   "codemirror_mode": {
    "name": "ipython",
    "version": 3
   },
   "file_extension": ".py",
   "mimetype": "text/x-python",
   "name": "python",
   "nbconvert_exporter": "python",
   "pygments_lexer": "ipython3",
   "version": "3.9.7"
  }
 },
 "nbformat": 4,
 "nbformat_minor": 5
}
