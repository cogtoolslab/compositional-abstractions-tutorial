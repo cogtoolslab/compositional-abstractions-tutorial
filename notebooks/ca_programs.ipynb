{
 "cells": [
  {
   "cell_type": "markdown",
   "id": "964735df",
   "metadata": {},
   "source": [
    "# Linguistic Analyses for Compositional Abstractions\n",
    "## Notebook 2: Learning part concepts with program abstraction\n",
    "\n",
    "This notebook was written by Will McCarthy.  \n",
    "Original modeling by Haoliang Wang, Will McCarthy, Cameron Holdaway, Robert Hawkins, and Judy Fan."
   ]
  },
  {
   "cell_type": "markdown",
   "id": "653e5934",
   "metadata": {},
   "source": [
    "### *NOTE: THIS NOTEBOOK SERVES AS THE INSTRUCTOR VERSION*"
   ]
  },
  {
   "cell_type": "markdown",
   "id": "547d1c8d",
   "metadata": {},
   "source": [
    "In the previous section, we saw that *Architects* used increasingly concise language to describe the scenes they were viewing. In particular, we saw that they started to use words that referred to increasingly complex entities, moving from instructions about individual blocks to entire towers.\n",
    "\n",
    "Here we try to explain this trend through the lens of *abstraction*. We hypothesize that, as people are exposed to scenes that have elements in common (i.e. towers), they acquire a vocabulary of increasingly abstract *part concepts* that they can use represent and talk about each scene more concisely. We formalize this idea using *programmatic representations* of scenes, which support an amodal kind of abstraction, in the form of *program fragments*. In this notebook we explore a mechanism for learning program fragments as a model for the learning of part concepts."
   ]
  },
  {
   "cell_type": "markdown",
   "id": "93b9d4ef",
   "metadata": {},
   "source": [
    "This section is divided into three sections.  \n",
    "**Section 1** explains the programmatic representations we will work with.  \n",
    "**Section 2** covers the aquisition of part concepts over trials.  \n",
    "**Section 3** covers the refactoring of scene programs into more concise programs involving these part concepts."
   ]
  },
  {
   "cell_type": "markdown",
   "id": "0935bba5",
   "metadata": {},
   "source": [
    "### Setup"
   ]
  },
  {
   "cell_type": "code",
   "execution_count": 1,
   "id": "c330338c",
   "metadata": {},
   "outputs": [],
   "source": [
    "import os\n",
    "import sys\n",
    "import urllib, io\n",
    "os.getcwd()\n",
    "\n",
    "import numpy as np\n",
    "import scipy.stats as stats\n",
    "import pandas as pd\n",
    "\n",
    "import pymongo as pm\n",
    "from collections import Counter\n",
    "import json\n",
    "import re\n",
    "import ast\n",
    "import pickle\n",
    "\n",
    "import  matplotlib\n",
    "from matplotlib import pylab, mlab, pyplot\n",
    "%matplotlib inline\n",
    "from IPython.core.pylabtools import figsize, getfigs\n",
    "plt = pyplot\n",
    "import matplotlib as mpl\n",
    "mpl.rcParams['pdf.fonttype'] = 42\n",
    "\n",
    "import seaborn as sns\n",
    "\n",
    "from PIL import Image, ImageOps, ImageDraw, ImageFont \n",
    "\n",
    "from io import BytesIO\n",
    "import base64\n",
    "\n",
    "from IPython.display import clear_output\n",
    "\n",
    "import warnings\n",
    "warnings.filterwarnings(\"ignore\", category=DeprecationWarning)\n",
    "warnings.filterwarnings(\"ignore\", message=\"numpy.dtype size changed\")\n",
    "warnings.filterwarnings(\"ignore\", message=\"numpy.ufunc size changed\")"
   ]
  },
  {
   "cell_type": "code",
   "execution_count": 2,
   "id": "17eabe0b",
   "metadata": {},
   "outputs": [],
   "source": [
    "# import model\n",
    "sys.path.append(\"../model/lib_learning/\")\n",
    "\n",
    "from program import *\n",
    "import utilities\n",
    "import render\n",
    "from parsePrograms import *\n",
    "\n",
    "from towerPrimitives import primitives\n",
    "from makeTowerTasks import *\n",
    "from grammar import *\n",
    "from fragmentGrammar import *\n",
    "from gen_seq import *\n",
    "from enumeration import *\n",
    "import importlib"
   ]
  },
  {
   "cell_type": "code",
   "execution_count": 3,
   "id": "366bfb36",
   "metadata": {},
   "outputs": [],
   "source": [
    "# import block rendering\n",
    "sys.path.append(\"../model/block_utils/\")\n",
    "\n",
    "from block_utils import render_program"
   ]
  },
  {
   "cell_type": "markdown",
   "id": "c6c05f3a",
   "metadata": {},
   "source": [
    "## Section 1: Representing block towers as programs\n",
    "\n",
    "In this project we want to explore how people learn abstract procedural knowledge. We therefore assume familiarity with a basic level of block building concepts, encapsulated in a *domain specific language* (DSL).\n",
    "\n",
    "Our *base DSL* (adapted from the [Dreamcoder building task](https://arxiv.org/abs/2006.08381)), contains the following primitives:\n",
    "- **h**: place horizontal domino\n",
    "- **v**: place vertical domino\n",
    "- **l_x**: move left x places,  where x in {1,2,3,4,5,6,7,8,9,10,11,12}\n",
    "- **r_x**: move right x places, where x in {1,2,3,4,5,6,7,8,9,10,11,12}\n",
    "\n",
    "Later in the notebook, we will define new primitives to add to this DSL.\n",
    "\n",
    "We manually define a unique program for each scene. For example, the scene with the C-tower on the left and L-tower on the right is represented as:  \n",
    "    `h l_1 v v r_1 h r_12 h l_4 h l_1 v v`"
   ]
  },
  {
   "cell_type": "markdown",
   "id": "bae90e79",
   "metadata": {},
   "source": [
    "We can look at the effects of a particular program using the `render_program()` function."
   ]
  },
  {
   "cell_type": "code",
   "execution_count": 4,
   "id": "4bd85b2e",
   "metadata": {
    "scrolled": false
   },
   "outputs": [
    {
     "data": {
      "image/png": "[encoded data removed]",
      "text/plain": [
       "<Figure size 390x240 with 1 Axes>"
      ]
     },
     "metadata": {},
     "output_type": "display_data"
    }
   ],
   "source": [
    "render_program(\"h l_1 v v r_1 h r_12 h l_4 h l_1 v v\")"
   ]
  },
  {
   "cell_type": "markdown",
   "id": "38b744e9",
   "metadata": {},
   "source": [
    "Here is a dictionary of programs for all of the possible scenes in our experiment."
   ]
  },
  {
   "cell_type": "code",
   "execution_count": 5,
   "id": "ca3e4a23",
   "metadata": {},
   "outputs": [],
   "source": [
    "manual_tower_programs = {\"CL\" :\"h l_1 v v r_1 h r_12 h l_4 h l_1 v v\",\n",
    "                         \"CPi\": \"h l_1 v v r_1 h r_6 v r_6 v l_5 h r_4 h\",\n",
    "                         \"PiC\": \"v r_6 v l_5 h r_4 h r_7 h l_1 v v r_1 h\",\n",
    "                         \"LPi\": \"h l_4 h l_1 v v r_9 v r_6 v l_5 h r_4 h\",\n",
    "                         \"LC\": \"h l_4 h l_1 v v r_12 h l_1 v v r_1 h\",\n",
    "                         \"PiL\": \"v r_6 v l_5 h r_4 h r_9 h l_4 h l_1 v v\"}"
   ]
  },
  {
   "cell_type": "markdown",
   "id": "da586b6d",
   "metadata": {},
   "source": [
    "## <span style=\"color: orange\"> Exercise: familiarize yourself with the programmatic representation of scenes. </span>\n",
    "\n",
    "To get a feel for how these programs work, try the following exercises. Also, just have a place placing blocks in different locations.\n",
    "\n",
    "1. Render each of the towers defined in the dictionary above.\n",
    "2. Render each of the towers (C, Pi, and L)"
   ]
  },
  {
   "cell_type": "code",
   "execution_count": 6,
   "id": "20ed8d66",
   "metadata": {},
   "outputs": [
    {
     "data": {
      "image/png": "[encoded data removed]",
      "text/plain": [
       "<Figure size 390x240 with 1 Axes>"
      ]
     },
     "metadata": {},
     "output_type": "display_data"
    }
   ],
   "source": [
    "## MASKED FROM STUDENT VERSION\n",
    "\n",
    "# render a scene program\n",
    "render_program(manual_tower_programs[\"CPi\"])"
   ]
  },
  {
   "cell_type": "code",
   "execution_count": 7,
   "id": "9a705181",
   "metadata": {},
   "outputs": [
    {
     "data": {
      "image/png": "[encoded data removed]",
      "text/plain": [
       "<Figure size 390x240 with 1 Axes>"
      ]
     },
     "metadata": {},
     "output_type": "display_data"
    }
   ],
   "source": [
    "## MASKED FROM STUDENT VERSION\n",
    "\n",
    "# render a tower\n",
    "render_program('h l_1 v v r_1 h')"
   ]
  },
  {
   "cell_type": "markdown",
   "id": "8a212c56",
   "metadata": {},
   "source": [
    "## Section 2: Library learning\n",
    "\n",
    "In this section we formalize abstraction learning as the discovery of *program fragments*. Fragments can be thought of as a functional subpart of a program, or subroutine. By design, our scenes have several subparts that we expect will be particularly useful-- namely the substrings corresponding to whole towers.\n",
    "\n",
    "By augmenting the base DSL with additional tokens that correspond to program fragments, we create a new DSL that can be used to express scenes more efficiently (i.e. with fewer tokens). This benefit comes at the cost of storing the new abstractions in memory. This trade-off is captured by the abstraction learning algorithm, [Dreamcoder](https://arxiv.org/abs/2006.08381). Dreamcoder adds program fragments to a DSL more or less readily depending on a weighting parameter, *w*. To keep things simple, here we consider a small range of *w*s (1.5, 3.3, 9.6) that produce a reasonable range of *learning rates*.\n",
    "\n",
    "This is important, as we are using Dreamcoder to capture the *change in DSLs* across trials. As the model is exposed to more scenes (programs), fragments are added to the DSL, and scenes are able to be expressed with shorter programs. This is meant to capture the ability of participants to reason about structures larger than individual blocks."
   ]
  },
  {
   "cell_type": "markdown",
   "id": "036f4d63",
   "metadata": {},
   "source": [
    "### Running dreamcoder\n",
    "\n",
    "To save time, we have run the library learning phase of Dreamcoder for you, on a range of weights, for each participant's trial sequence.\n",
    "\n",
    "The output is a series of DSLs-- one for each trial, for each participant, for each weight.\n",
    "\n",
    "These DSLs are saved in `./data/model/dsls/`."
   ]
  },
  {
   "cell_type": "code",
   "execution_count": 8,
   "id": "02eb7f23",
   "metadata": {},
   "outputs": [],
   "source": [
    "# setup\n",
    "ws = [1.5, 3.3, 9.6] # values of w we are considering\n",
    "w_index = {1.5 : 0,\n",
    "           3.3 : 2,\n",
    "           9.6: 3} # positional index of w in loaded data\n",
    "trials = range(1,13)\n",
    "ppts = range(1,50)"
   ]
  },
  {
   "cell_type": "code",
   "execution_count": 9,
   "id": "eff49665",
   "metadata": {},
   "outputs": [],
   "source": [
    "# Read in the DSLs learned by dreamcoder\n",
    "\n",
    "data_path = '../data/model/dsls/'\n",
    "\n",
    "dsls = {}\n",
    "trial_seqs = {}\n",
    "\n",
    "for ppt in range(1,50):\n",
    "    \n",
    "    dsls[ppt] = {}\n",
    "    \n",
    "    # read participants' trial sequence\n",
    "    with open(data_path+f\"{ppt}/configs.p\", \"rb\") as config_file:\n",
    "            trial_seqs[ppt] = pickle.load(config_file)\n",
    "    \n",
    "    # read inferred DSLs\n",
    "    for trial in range(1, 13):\n",
    "        with open(data_path+f\"{ppt}/{trial}.p\", \"rb\") as input_file:\n",
    "            dsls[ppt][trial] = pickle.load(input_file)\n",
    "\n",
    "def check_values(value, valid_values, parameter_type):\n",
    "    if value not in valid_values:\n",
    "        raise ValueError(f'{parameter_type} must be one of the following values: {valid_values}.')\n",
    "            \n",
    "def read_library(ppt, trial, w = 3.2, base_dsl_only=True, sort=False):\n",
    "    '''\n",
    "    Returns dsl learned by dreamcoder\n",
    "    '''\n",
    "    check_values(ppt, range(1, 50), 'ppt')\n",
    "    check_values(trial, range(1, 13), 'trial')\n",
    "    check_values(w, ws, 'w')\n",
    "    \n",
    "    lib = [parse(str(fragment), base_dsl_only=base_dsl_only) for fragment in dsls[ppt][trial][w_index[w]]]\n",
    "    \n",
    "    if sort:\n",
    "        lib = sorted(lib, key=lambda x: len(x.split()))\n",
    "    \n",
    "    return lib"
   ]
  },
  {
   "cell_type": "markdown",
   "id": "78c4592f",
   "metadata": {},
   "source": [
    "We can now read the library for participant 1's first trial:"
   ]
  },
  {
   "cell_type": "code",
   "execution_count": 14,
   "id": "2c254584",
   "metadata": {},
   "outputs": [
    {
     "data": {
      "text/plain": [
       "[]"
      ]
     },
     "execution_count": 14,
     "metadata": {},
     "output_type": "execute_result"
    }
   ],
   "source": [
    "# Read a dsl\n",
    "lib = read_library(ppt = 1, \n",
    "             trial = 1,\n",
    "             w = 3.3\n",
    "            )\n",
    "lib"
   ]
  },
  {
   "cell_type": "markdown",
   "id": "9e702c2d",
   "metadata": {},
   "source": [
    "And for their last trial:"
   ]
  },
  {
   "cell_type": "code",
   "execution_count": 17,
   "id": "0d1d4b2b",
   "metadata": {},
   "outputs": [
    {
     "data": {
      "text/plain": [
       "['v r_6 v l_5 h r_4 h', 'h l_1 v v', 'h l_4 h l_1 v v', 'h l_1 v v r_1 h']"
      ]
     },
     "execution_count": 17,
     "metadata": {},
     "output_type": "execute_result"
    }
   ],
   "source": [
    "# Read another dsl\n",
    "lib = read_library(ppt = 1, \n",
    "             trial = 12,\n",
    "             w = 3.3\n",
    "            )\n",
    "lib"
   ]
  },
  {
   "cell_type": "markdown",
   "id": "33f1b2a8",
   "metadata": {},
   "source": [
    "So Dreamcoder learned 4 program fragments across this trial sequence at this weight! We can also visualize these:"
   ]
  },
  {
   "cell_type": "code",
   "execution_count": 18,
   "id": "9945413c",
   "metadata": {},
   "outputs": [
    {
     "data": {
      "image/png": "[encoded data removed]",
      "text/plain": [
       "<Figure size 390x240 with 1 Axes>"
      ]
     },
     "metadata": {},
     "output_type": "display_data"
    },
    {
     "data": {
      "image/png": "[encoded data removed]",
      "text/plain": [
       "<Figure size 390x240 with 1 Axes>"
      ]
     },
     "metadata": {},
     "output_type": "display_data"
    },
    {
     "data": {
      "image/png": "[encoded data removed]",
      "text/plain": [
       "<Figure size 390x240 with 1 Axes>"
      ]
     },
     "metadata": {},
     "output_type": "display_data"
    },
    {
     "data": {
      "image/png": "[encoded data removed]",
      "text/plain": [
       "<Figure size 390x240 with 1 Axes>"
      ]
     },
     "metadata": {},
     "output_type": "display_data"
    }
   ],
   "source": [
    "_ = [render_program(p) for p in lib]"
   ]
  },
  {
   "cell_type": "code",
   "execution_count": null,
   "id": "c356ce9a",
   "metadata": {
    "scrolled": true
   },
   "outputs": [],
   "source": [
    "# def rwt(p):\n",
    "# #     print(p.replace(' ','/'))\n",
    "# #     print(p)\n",
    "#     a = render_program(p)\n",
    "\n",
    "# _ = [rwt(b) for bs in [p for ps in libs for p in ps] for b in bs]"
   ]
  },
  {
   "cell_type": "markdown",
   "id": "3d5ee887",
   "metadata": {},
   "source": [
    "## <span style=\"color: orange\"> Exercise: explore library size over time</span>\n",
    "\n",
    "Now we'd like to know how libraries change across trials.\n",
    "\n",
    "First try printing an entire sequence of libraries for one participant. Then, try to calculate some basic summary statistics across participants. One thing that might differ is the size of the library."
   ]
  },
  {
   "cell_type": "code",
   "execution_count": 19,
   "id": "416faa5b",
   "metadata": {},
   "outputs": [
    {
     "data": {
      "text/plain": [
       "[[],\n",
       " [],\n",
       " ['h l_1 v v r_1'],\n",
       " ['h l_1 v v r_1', 'v r_6 v l_5 h r_4 h'],\n",
       " ['h l_1 v v', 'v r_6 v l_5 h r_4 h', 'h l_4 h l_1 v v', 'h l_1 v v r_1 h'],\n",
       " ['h l_1 v v', 'v r_6 v l_5 h r_4 h', 'h l_4 h l_1 v v', 'h l_1 v v r_1 h'],\n",
       " ['h l_1 v v', 'v r_6 v l_5 h r_4 h', 'h l_4 h l_1 v v', 'h l_1 v v r_1 h'],\n",
       " ['h l_1 v v', 'v r_6 v l_5 h r_4 h', 'h l_4 h l_1 v v', 'h l_1 v v r_1 h'],\n",
       " ['v r_6 v l_5 h r_4 h', 'h l_1 v v', 'h l_4 h l_1 v v', 'h l_1 v v r_1 h'],\n",
       " ['h l_1 v v', 'v r_6 v l_5 h r_4 h', 'h l_4 h l_1 v v', 'h l_1 v v r_1 h'],\n",
       " ['v r_6 v l_5 h r_4 h', 'h l_1 v v', 'h l_4 h l_1 v v', 'h l_1 v v r_1 h'],\n",
       " ['v r_6 v l_5 h r_4 h', 'h l_1 v v', 'h l_4 h l_1 v v', 'h l_1 v v r_1 h']]"
      ]
     },
     "execution_count": 19,
     "metadata": {},
     "output_type": "execute_result"
    }
   ],
   "source": [
    "## MASKED FROM STUDENT VERSION\n",
    "\n",
    "# Find the series of libraries for a specific weight and participant\n",
    "\n",
    "[read_library(ppt = 1, \n",
    "             trial = trial,\n",
    "             w = 3.3) for trial in range(1,13)]"
   ]
  },
  {
   "cell_type": "code",
   "execution_count": 20,
   "id": "e3b7c5ee",
   "metadata": {},
   "outputs": [],
   "source": [
    "# for p in read_library(ppt = 15, \n",
    "#              trial = 12,\n",
    "#              w = 1.5,\n",
    "#              base_dsl_only=True):\n",
    "#     render_program(p)"
   ]
  },
  {
   "cell_type": "code",
   "execution_count": 21,
   "id": "da184ce8",
   "metadata": {},
   "outputs": [],
   "source": [
    "# Find the series of libraries for a specific weight and participant\n",
    "\n",
    "libs = [[read_library(ppt = ppt, \n",
    "             trial = trial,\n",
    "             w = 1.5,\n",
    "             base_dsl_only=False) for trial in range(1,13)] for ppt in range(1,50)]"
   ]
  },
  {
   "cell_type": "code",
   "execution_count": 22,
   "id": "b03de728",
   "metadata": {},
   "outputs": [
    {
     "data": {
      "text/plain": [
       "<AxesSubplot:xlabel='trial', ylabel='lib_size'>"
      ]
     },
     "execution_count": 22,
     "metadata": {},
     "output_type": "execute_result"
    },
    {
     "data": {
      "image/png": "[encoded data removed]",
      "text/plain": [
       "<Figure size 640x480 with 1 Axes>"
      ]
     },
     "metadata": {},
     "output_type": "display_data"
    }
   ],
   "source": [
    "## MASKED FROM STUDENT VERSION\n",
    "\n",
    "# plot library size\n",
    "lib_sizes = [[len(read_library(ppt = ppt, \n",
    "             trial = trial,\n",
    "             w = 3.3,\n",
    "             base_dsl_only=False)) for trial in range(1,13)] for ppt in range(1,50)]\n",
    "\n",
    "df = pd.DataFrame(lib_sizes)\n",
    "tidy_df = df.reset_index().melt(id_vars='index', var_name='trial', value_name='lib_size')\n",
    "tidy_df = tidy_df.rename(columns={'index': 'Participant'})\n",
    "sns.lineplot(data=tidy_df,\n",
    "             x=\"trial\",\n",
    "             y=\"lib_size\")"
   ]
  },
  {
   "cell_type": "markdown",
   "id": "32aa7fd9",
   "metadata": {},
   "source": [
    "### Exploring library contents"
   ]
  },
  {
   "cell_type": "markdown",
   "id": "eae7c507",
   "metadata": {},
   "source": [
    "We're currently displaying each fragment as a program in the base DSL, but the whole point of learning fragments is that you can express them as a single token.\n",
    "\n",
    "If we were fully automating this process, we might use an ID to label each learned fragment. In this example, only a handful of fragments are learned. This makes it possible to give each fragment a more helpful, human-readable name. If we change `base_dsl_only` to `False` then we can give these learned fragments helpful names (taken from a look-up table we've manually coded)."
   ]
  },
  {
   "cell_type": "code",
   "execution_count": 23,
   "id": "0094237a",
   "metadata": {},
   "outputs": [
    {
     "data": {
      "text/plain": [
       "['chunk_Pi', 'chunk_8', 'chunk_L', 'chunk_C', 'chunk_CPi', 'chunk_PiC']"
      ]
     },
     "execution_count": 23,
     "metadata": {},
     "output_type": "execute_result"
    }
   ],
   "source": [
    "read_library(ppt = 1, \n",
    "             trial = 12,\n",
    "             w = 1.5,\n",
    "             base_dsl_only=False)"
   ]
  },
  {
   "cell_type": "markdown",
   "id": "0b01a543",
   "metadata": {},
   "source": [
    "We refer to all these learned abstractions as \"chunks\". \n",
    "\n",
    "- `chunk_n`, where n is a number (and sometimes also a letter) are subtower expressions (capturing several block placements)\n",
    "- `chunk_Pi`, `chunk_C` and `chunk_L`, are distinct block towers. \n",
    "- `chunk_CPi` (and other chunks with two of C, L, and Pi) are single abstractions that capture the entire scene."
   ]
  },
  {
   "cell_type": "markdown",
   "id": "ab83a385",
   "metadata": {},
   "source": [
    "## <span style=\"color: orange\"> Exercise: explore contents</span>\n",
    "\n",
    "See how library size and contents changes with different values of w."
   ]
  },
  {
   "cell_type": "code",
   "execution_count": 34,
   "id": "fd18c643",
   "metadata": {},
   "outputs": [],
   "source": [
    "# Find the series of libraries for a specific weight and participant\n",
    "libs = [[read_library(ppt = ppt, \n",
    "             trial = trial,\n",
    "             w = 3.3,\n",
    "             base_dsl_only=False) for trial in range(1,13)] for ppt in range(1,50)]"
   ]
  },
  {
   "cell_type": "code",
   "execution_count": 35,
   "id": "4859794b",
   "metadata": {},
   "outputs": [
    {
     "data": {
      "text/plain": [
       "chunk_8     425\n",
       "chunk_Pi    419\n",
       "chunk_L     392\n",
       "chunk_C     392\n",
       "chunk_8b     65\n",
       "dtype: int64"
      ]
     },
     "execution_count": 35,
     "metadata": {},
     "output_type": "execute_result"
    }
   ],
   "source": [
    "pd.Series([y for ys in [x for xs in libs for x in xs] for y in ys]).value_counts()"
   ]
  },
  {
   "cell_type": "markdown",
   "id": "a41a2746",
   "metadata": {},
   "source": [
    "## Section 3: Representing scenes more concisely with refactored programs\n",
    "\n",
    "Now we have inferred the libraries of part concepts available to each participant in each trial. These part concepts, or program fragments, allow each scene program to be expressed more efficiently. In the next notebook, the model makes a decision about whether to use the most efficient program available to it, or play it safe and use lower-level language (about individual blocks). Before we get there, we first need to find these efficient programs.\n",
    "\n",
    "How to search for programs given a DSL is an interesting research question in itself. Here, however, our focus is on how people choose between more or less efficient ways of expressing a concept, given uncertainty about what their partner will understand. For our purposes, we just need to select the single most efficient program that represents each scene. Fortunately for us, Dreamcoder libraries uniquely determine this most efficient programs. Programs involving larger abstractions can easily be found through enumeration. For less compressed programs, enumeration takes too long, however, we can simply swap in the learned abstractions from our DSLs through string-matching."
   ]
  },
  {
   "cell_type": "code",
   "execution_count": 36,
   "id": "fc09493e",
   "metadata": {},
   "outputs": [],
   "source": [
    "w = 3.3\n",
    "w_position = w_index[w]"
   ]
  },
  {
   "cell_type": "code",
   "execution_count": 41,
   "id": "9da5b160",
   "metadata": {},
   "outputs": [],
   "source": [
    "from refactorPrograms import * "
   ]
  },
  {
   "cell_type": "code",
   "execution_count": 42,
   "id": "2f0772e1",
   "metadata": {},
   "outputs": [
    {
     "name": "stdout",
     "output_type": "stream",
     "text": [
      "Programs saved in ../data/model/your_programs/programs_ppt_[ppt].json\n"
     ]
    }
   ],
   "source": [
    "# refactor the programs\n",
    "refactor_programs(dsls,\n",
    "                  trial_seqs,\n",
    "                  w_position = w_position)"
   ]
  },
  {
   "cell_type": "code",
   "execution_count": 43,
   "id": "330c9c6f",
   "metadata": {},
   "outputs": [
    {
     "data": {
      "text/html": [
       "<div>\n",
       "<style scoped>\n",
       "    .dataframe tbody tr th:only-of-type {\n",
       "        vertical-align: middle;\n",
       "    }\n",
       "\n",
       "    .dataframe tbody tr th {\n",
       "        vertical-align: top;\n",
       "    }\n",
       "\n",
       "    .dataframe thead th {\n",
       "        text-align: right;\n",
       "    }\n",
       "</style>\n",
       "<table border=\"1\" class=\"dataframe\">\n",
       "  <thead>\n",
       "    <tr style=\"text-align: right;\">\n",
       "      <th></th>\n",
       "      <th>ppt</th>\n",
       "      <th>trial_num</th>\n",
       "      <th>towers</th>\n",
       "      <th>dsl_lambda</th>\n",
       "      <th>chunks</th>\n",
       "      <th>dsl</th>\n",
       "      <th>min_program</th>\n",
       "      <th>programs_with_length</th>\n",
       "    </tr>\n",
       "  </thead>\n",
       "  <tbody>\n",
       "    <tr>\n",
       "      <th>0</th>\n",
       "      <td>1</td>\n",
       "      <td>1</td>\n",
       "      <td>LPi</td>\n",
       "      <td>[2x1, 1x2, 1, 2, 3, 4, 5, 6, 7, 8, 9, 10, 11, ...</td>\n",
       "      <td>[]</td>\n",
       "      <td>[h, v, l_0, l_1, l_2, l_3, l_4, l_5, l_6, l_7,...</td>\n",
       "      <td>h l_4 h l_1 v v r_9 v r_6 v l_5 h r_4 h</td>\n",
       "      <td>{'h l_4 h l_1 v v r_9 v r_6 v l_5 h r_4 h': 14}</td>\n",
       "    </tr>\n",
       "    <tr>\n",
       "      <th>1</th>\n",
       "      <td>1</td>\n",
       "      <td>2</td>\n",
       "      <td>LC</td>\n",
       "      <td>[2x1, 1x2, 1, 2, 3, 4, 5, 6, 7, 8, 9, 10, 11, ...</td>\n",
       "      <td>[]</td>\n",
       "      <td>[h, v, l_0, l_1, l_2, l_3, l_4, l_5, l_6, l_7,...</td>\n",
       "      <td>h l_4 h l_1 v v r_12 h l_1 v v r_1 h</td>\n",
       "      <td>{'h l_4 h l_1 v v r_12 h l_1 v v r_1 h': 13}</td>\n",
       "    </tr>\n",
       "    <tr>\n",
       "      <th>2</th>\n",
       "      <td>1</td>\n",
       "      <td>3</td>\n",
       "      <td>CPi</td>\n",
       "      <td>[2x1, 1x2, 1, 2, 3, 4, 5, 6, 7, 8, 9, 10, 11, ...</td>\n",
       "      <td>[]</td>\n",
       "      <td>[h, v, l_0, l_1, l_2, l_3, l_4, l_5, l_6, l_7,...</td>\n",
       "      <td>h l_1 v v r_1 h r_6 v r_6 v l_5 h r_4 h</td>\n",
       "      <td>{'h l_1 v v r_1 h r_6 v r_6 v l_5 h r_4 h': 14}</td>\n",
       "    </tr>\n",
       "    <tr>\n",
       "      <th>3</th>\n",
       "      <td>1</td>\n",
       "      <td>4</td>\n",
       "      <td>PiC</td>\n",
       "      <td>[2x1, 1x2, 1, 2, 3, 4, 5, 6, 7, 8, 9, 10, 11, ...</td>\n",
       "      <td>[chunk_8b]</td>\n",
       "      <td>[h, v, l_0, l_1, l_2, l_3, l_4, l_5, l_6, l_7,...</td>\n",
       "      <td>v r_6 v l_5 h r_4 h r_7 chunk_8b h</td>\n",
       "      <td>{'v r_6 v l_5 h r_4 h r_7 chunk_8b h': 10, 'v ...</td>\n",
       "    </tr>\n",
       "    <tr>\n",
       "      <th>4</th>\n",
       "      <td>1</td>\n",
       "      <td>5</td>\n",
       "      <td>CL</td>\n",
       "      <td>[2x1, 1x2, 1, 2, 3, 4, 5, 6, 7, 8, 9, 10, 11, ...</td>\n",
       "      <td>[chunk_8b, chunk_Pi]</td>\n",
       "      <td>[h, v, l_0, l_1, l_2, l_3, l_4, l_5, l_6, l_7,...</td>\n",
       "      <td>chunk_8b h r_12 h l_4 h l_1 v v</td>\n",
       "      <td>{'chunk_8b h r_12 h l_4 h l_1 v v': 9, 'h l_1 ...</td>\n",
       "    </tr>\n",
       "    <tr>\n",
       "      <th>5</th>\n",
       "      <td>1</td>\n",
       "      <td>6</td>\n",
       "      <td>PiL</td>\n",
       "      <td>[2x1, 1x2, 1, 2, 3, 4, 5, 6, 7, 8, 9, 10, 11, ...</td>\n",
       "      <td>[chunk_8, chunk_Pi, chunk_L, chunk_C]</td>\n",
       "      <td>[h, v, l_0, l_1, l_2, l_3, l_4, l_5, l_6, l_7,...</td>\n",
       "      <td>chunk_Pi r_9 chunk_L</td>\n",
       "      <td>{'chunk_Pi r_9 chunk_L': 3, 'v r_6 v l_5 h r_4...</td>\n",
       "    </tr>\n",
       "    <tr>\n",
       "      <th>6</th>\n",
       "      <td>1</td>\n",
       "      <td>7</td>\n",
       "      <td>LC</td>\n",
       "      <td>[2x1, 1x2, 1, 2, 3, 4, 5, 6, 7, 8, 9, 10, 11, ...</td>\n",
       "      <td>[chunk_8, chunk_Pi, chunk_L, chunk_C]</td>\n",
       "      <td>[h, v, l_0, l_1, l_2, l_3, l_4, l_5, l_6, l_7,...</td>\n",
       "      <td>chunk_L r_12 chunk_C</td>\n",
       "      <td>{'chunk_L r_12 chunk_C': 3, 'h l_4 h l_1 v v r...</td>\n",
       "    </tr>\n",
       "    <tr>\n",
       "      <th>7</th>\n",
       "      <td>1</td>\n",
       "      <td>8</td>\n",
       "      <td>CPi</td>\n",
       "      <td>[2x1, 1x2, 1, 2, 3, 4, 5, 6, 7, 8, 9, 10, 11, ...</td>\n",
       "      <td>[chunk_8, chunk_Pi, chunk_L, chunk_C]</td>\n",
       "      <td>[h, v, l_0, l_1, l_2, l_3, l_4, l_5, l_6, l_7,...</td>\n",
       "      <td>chunk_C r_6 chunk_Pi</td>\n",
       "      <td>{'chunk_C r_6 chunk_Pi': 3, 'chunk_C r_6 v r_6...</td>\n",
       "    </tr>\n",
       "    <tr>\n",
       "      <th>8</th>\n",
       "      <td>1</td>\n",
       "      <td>9</td>\n",
       "      <td>LPi</td>\n",
       "      <td>[2x1, 1x2, 1, 2, 3, 4, 5, 6, 7, 8, 9, 10, 11, ...</td>\n",
       "      <td>[chunk_8, chunk_Pi, chunk_L, chunk_C]</td>\n",
       "      <td>[h, v, l_0, l_1, l_2, l_3, l_4, l_5, l_6, l_7,...</td>\n",
       "      <td>chunk_L r_9 chunk_Pi</td>\n",
       "      <td>{'chunk_L r_9 chunk_Pi': 3, 'chunk_L r_9 v r_6...</td>\n",
       "    </tr>\n",
       "    <tr>\n",
       "      <th>9</th>\n",
       "      <td>1</td>\n",
       "      <td>10</td>\n",
       "      <td>CL</td>\n",
       "      <td>[2x1, 1x2, 1, 2, 3, 4, 5, 6, 7, 8, 9, 10, 11, ...</td>\n",
       "      <td>[chunk_Pi, chunk_8, chunk_L, chunk_C]</td>\n",
       "      <td>[h, v, l_0, l_1, l_2, l_3, l_4, l_5, l_6, l_7,...</td>\n",
       "      <td>chunk_C r_12 chunk_L</td>\n",
       "      <td>{'chunk_C r_12 chunk_L': 3, 'chunk_C r_12 h l_...</td>\n",
       "    </tr>\n",
       "    <tr>\n",
       "      <th>10</th>\n",
       "      <td>1</td>\n",
       "      <td>11</td>\n",
       "      <td>PiC</td>\n",
       "      <td>[2x1, 1x2, 1, 2, 3, 4, 5, 6, 7, 8, 9, 10, 11, ...</td>\n",
       "      <td>[chunk_8, chunk_Pi, chunk_L, chunk_C]</td>\n",
       "      <td>[h, v, l_0, l_1, l_2, l_3, l_4, l_5, l_6, l_7,...</td>\n",
       "      <td>chunk_Pi r_7 chunk_C</td>\n",
       "      <td>{'chunk_Pi r_7 chunk_C': 3, 'v r_6 v l_5 h r_4...</td>\n",
       "    </tr>\n",
       "    <tr>\n",
       "      <th>11</th>\n",
       "      <td>1</td>\n",
       "      <td>12</td>\n",
       "      <td>PiL</td>\n",
       "      <td>[2x1, 1x2, 1, 2, 3, 4, 5, 6, 7, 8, 9, 10, 11, ...</td>\n",
       "      <td>[chunk_Pi, chunk_8, chunk_L, chunk_C]</td>\n",
       "      <td>[h, v, l_0, l_1, l_2, l_3, l_4, l_5, l_6, l_7,...</td>\n",
       "      <td>chunk_Pi r_9 chunk_L</td>\n",
       "      <td>{'chunk_Pi r_9 chunk_L': 3, 'v r_6 v l_5 h r_4...</td>\n",
       "    </tr>\n",
       "  </tbody>\n",
       "</table>\n",
       "</div>"
      ],
      "text/plain": [
       "    ppt  trial_num towers                                         dsl_lambda  \\\n",
       "0     1          1    LPi  [2x1, 1x2, 1, 2, 3, 4, 5, 6, 7, 8, 9, 10, 11, ...   \n",
       "1     1          2     LC  [2x1, 1x2, 1, 2, 3, 4, 5, 6, 7, 8, 9, 10, 11, ...   \n",
       "2     1          3    CPi  [2x1, 1x2, 1, 2, 3, 4, 5, 6, 7, 8, 9, 10, 11, ...   \n",
       "3     1          4    PiC  [2x1, 1x2, 1, 2, 3, 4, 5, 6, 7, 8, 9, 10, 11, ...   \n",
       "4     1          5     CL  [2x1, 1x2, 1, 2, 3, 4, 5, 6, 7, 8, 9, 10, 11, ...   \n",
       "5     1          6    PiL  [2x1, 1x2, 1, 2, 3, 4, 5, 6, 7, 8, 9, 10, 11, ...   \n",
       "6     1          7     LC  [2x1, 1x2, 1, 2, 3, 4, 5, 6, 7, 8, 9, 10, 11, ...   \n",
       "7     1          8    CPi  [2x1, 1x2, 1, 2, 3, 4, 5, 6, 7, 8, 9, 10, 11, ...   \n",
       "8     1          9    LPi  [2x1, 1x2, 1, 2, 3, 4, 5, 6, 7, 8, 9, 10, 11, ...   \n",
       "9     1         10     CL  [2x1, 1x2, 1, 2, 3, 4, 5, 6, 7, 8, 9, 10, 11, ...   \n",
       "10    1         11    PiC  [2x1, 1x2, 1, 2, 3, 4, 5, 6, 7, 8, 9, 10, 11, ...   \n",
       "11    1         12    PiL  [2x1, 1x2, 1, 2, 3, 4, 5, 6, 7, 8, 9, 10, 11, ...   \n",
       "\n",
       "                                   chunks  \\\n",
       "0                                      []   \n",
       "1                                      []   \n",
       "2                                      []   \n",
       "3                              [chunk_8b]   \n",
       "4                    [chunk_8b, chunk_Pi]   \n",
       "5   [chunk_8, chunk_Pi, chunk_L, chunk_C]   \n",
       "6   [chunk_8, chunk_Pi, chunk_L, chunk_C]   \n",
       "7   [chunk_8, chunk_Pi, chunk_L, chunk_C]   \n",
       "8   [chunk_8, chunk_Pi, chunk_L, chunk_C]   \n",
       "9   [chunk_Pi, chunk_8, chunk_L, chunk_C]   \n",
       "10  [chunk_8, chunk_Pi, chunk_L, chunk_C]   \n",
       "11  [chunk_Pi, chunk_8, chunk_L, chunk_C]   \n",
       "\n",
       "                                                  dsl  \\\n",
       "0   [h, v, l_0, l_1, l_2, l_3, l_4, l_5, l_6, l_7,...   \n",
       "1   [h, v, l_0, l_1, l_2, l_3, l_4, l_5, l_6, l_7,...   \n",
       "2   [h, v, l_0, l_1, l_2, l_3, l_4, l_5, l_6, l_7,...   \n",
       "3   [h, v, l_0, l_1, l_2, l_3, l_4, l_5, l_6, l_7,...   \n",
       "4   [h, v, l_0, l_1, l_2, l_3, l_4, l_5, l_6, l_7,...   \n",
       "5   [h, v, l_0, l_1, l_2, l_3, l_4, l_5, l_6, l_7,...   \n",
       "6   [h, v, l_0, l_1, l_2, l_3, l_4, l_5, l_6, l_7,...   \n",
       "7   [h, v, l_0, l_1, l_2, l_3, l_4, l_5, l_6, l_7,...   \n",
       "8   [h, v, l_0, l_1, l_2, l_3, l_4, l_5, l_6, l_7,...   \n",
       "9   [h, v, l_0, l_1, l_2, l_3, l_4, l_5, l_6, l_7,...   \n",
       "10  [h, v, l_0, l_1, l_2, l_3, l_4, l_5, l_6, l_7,...   \n",
       "11  [h, v, l_0, l_1, l_2, l_3, l_4, l_5, l_6, l_7,...   \n",
       "\n",
       "                                min_program  \\\n",
       "0   h l_4 h l_1 v v r_9 v r_6 v l_5 h r_4 h   \n",
       "1      h l_4 h l_1 v v r_12 h l_1 v v r_1 h   \n",
       "2   h l_1 v v r_1 h r_6 v r_6 v l_5 h r_4 h   \n",
       "3        v r_6 v l_5 h r_4 h r_7 chunk_8b h   \n",
       "4           chunk_8b h r_12 h l_4 h l_1 v v   \n",
       "5                      chunk_Pi r_9 chunk_L   \n",
       "6                      chunk_L r_12 chunk_C   \n",
       "7                      chunk_C r_6 chunk_Pi   \n",
       "8                      chunk_L r_9 chunk_Pi   \n",
       "9                      chunk_C r_12 chunk_L   \n",
       "10                     chunk_Pi r_7 chunk_C   \n",
       "11                     chunk_Pi r_9 chunk_L   \n",
       "\n",
       "                                 programs_with_length  \n",
       "0     {'h l_4 h l_1 v v r_9 v r_6 v l_5 h r_4 h': 14}  \n",
       "1        {'h l_4 h l_1 v v r_12 h l_1 v v r_1 h': 13}  \n",
       "2     {'h l_1 v v r_1 h r_6 v r_6 v l_5 h r_4 h': 14}  \n",
       "3   {'v r_6 v l_5 h r_4 h r_7 chunk_8b h': 10, 'v ...  \n",
       "4   {'chunk_8b h r_12 h l_4 h l_1 v v': 9, 'h l_1 ...  \n",
       "5   {'chunk_Pi r_9 chunk_L': 3, 'v r_6 v l_5 h r_4...  \n",
       "6   {'chunk_L r_12 chunk_C': 3, 'h l_4 h l_1 v v r...  \n",
       "7   {'chunk_C r_6 chunk_Pi': 3, 'chunk_C r_6 v r_6...  \n",
       "8   {'chunk_L r_9 chunk_Pi': 3, 'chunk_L r_9 v r_6...  \n",
       "9   {'chunk_C r_12 chunk_L': 3, 'chunk_C r_12 h l_...  \n",
       "10  {'chunk_Pi r_7 chunk_C': 3, 'v r_6 v l_5 h r_4...  \n",
       "11  {'chunk_Pi r_9 chunk_L': 3, 'v r_6 v l_5 h r_4...  "
      ]
     },
     "execution_count": 43,
     "metadata": {},
     "output_type": "execute_result"
    }
   ],
   "source": [
    "# inspect programs\n",
    "\n",
    "ppt = 1\n",
    "\n",
    "ppt_data = pd.read_json('../data/model/your_programs/programs_ppt_{}.json'.format(ppt))\n",
    "ppt_data"
   ]
  },
  {
   "cell_type": "markdown",
   "id": "f348f86d",
   "metadata": {},
   "source": [
    "## <span style=\"color: orange\"> Exercise: Explore how programs change across trials</span>\n",
    "\n",
    "We now have, for each participant, the most concise way of expressing each scene program (min_program). Take a look at these programs and try to make sense of them. Do they get longer or shorter over trials?\n",
    "\n",
    "**Hint**: This exploration is analagous to the message length analysis in the previous notebook."
   ]
  },
  {
   "cell_type": "code",
   "execution_count": null,
   "id": "2294f91d",
   "metadata": {},
   "outputs": [],
   "source": [
    "ppt = 1\n",
    "\n",
    "all_program_data = pd.DataFrame()\n",
    "\n",
    "for ppt in range(1,50):\n",
    "\n",
    "    with open(\"../data/model/your_programs/programs_ppt_\" + str(ppt) + \".json\", \"r\") as read_file:\n",
    "        trial_data = pd.read_json(read_file)\n",
    "        all_program_data = pd.concat([all_program_data, trial_data], ignore_index=True)"
   ]
  },
  {
   "cell_type": "code",
   "execution_count": null,
   "id": "989a9aa6",
   "metadata": {},
   "outputs": [],
   "source": [
    "all_program_data['min_prog_length'] = all_program_data.min_program.apply(lambda x: len(x.split(' ')))\n",
    "\n",
    "sns.lineplot(data = all_program_data,\n",
    "         x = 'trial_num',\n",
    "         y = 'min_prog_length')"
   ]
  },
  {
   "cell_type": "code",
   "execution_count": null,
   "id": "f8b90503",
   "metadata": {},
   "outputs": [],
   "source": [
    "all_program_data['rep'] = all_program_data.trial_num.apply(lambda n: np.ceil(n/3))\n",
    "\n",
    "\n",
    "sns.lineplot(data = all_program_data,\n",
    "         x = 'rep',\n",
    "         y = 'min_prog_length')"
   ]
  },
  {
   "cell_type": "markdown",
   "id": "7b1528f1",
   "metadata": {},
   "source": [
    "### Summary\n",
    "\n",
    "We've seen how we can model the learning of part concepts as adding program fragments to a library. We've seen that doing so allows us to express a scene program more concisely, and generated programs using more or less of these fragments to create a range of programs with varying concision.\n",
    "\n",
    "In the [final notebook](/notebooks/conventions.ipynb), we explore how people might weigh this concision against another factor-- informativity.\n",
    "\n",
    "Woohoo! Notebook 2 complete! Have a stretch, go for a walk, drink some water.\n",
    "\n"
   ]
  },
  {
   "cell_type": "code",
   "execution_count": null,
   "id": "ebbbb20b",
   "metadata": {},
   "outputs": [],
   "source": []
  }
 ],
 "metadata": {
  "kernelspec": {
   "display_name": "Python 3 (ipykernel)",
   "language": "python",
   "name": "python3"
  },
  "language_info": {
   "codemirror_mode": {
    "name": "ipython",
    "version": 3
   },
   "file_extension": ".py",
   "mimetype": "text/x-python",
   "name": "python",
   "nbconvert_exporter": "python",
   "pygments_lexer": "ipython3",
   "version": "3.9.16"
  }
 },
 "nbformat": 4,
 "nbformat_minor": 5
}
